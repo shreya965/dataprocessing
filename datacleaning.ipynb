{
 "cells": [
  {
   "cell_type": "code",
   "execution_count": 1,
   "id": "cc0e5402-1965-4f89-b16f-b8a66f0608b1",
   "metadata": {},
   "outputs": [],
   "source": [
    "import pandas as pd"
   ]
  },
  {
   "cell_type": "code",
   "execution_count": 27,
   "id": "3890cb04-a8c3-40d0-8805-7afa8eb299ef",
   "metadata": {},
   "outputs": [],
   "source": [
    "df=pd.read_csv(r'C:\\Users\\vedant\\Downloads\\Titanic-Dataset.csv')"
   ]
  },
  {
   "cell_type": "code",
   "execution_count": 28,
   "id": "a0c4874e-2b2d-481e-b2e2-e5cc878d2fb8",
   "metadata": {},
   "outputs": [
    {
     "data": {
      "text/html": [
       "<div>\n",
       "<style scoped>\n",
       "    .dataframe tbody tr th:only-of-type {\n",
       "        vertical-align: middle;\n",
       "    }\n",
       "\n",
       "    .dataframe tbody tr th {\n",
       "        vertical-align: top;\n",
       "    }\n",
       "\n",
       "    .dataframe thead th {\n",
       "        text-align: right;\n",
       "    }\n",
       "</style>\n",
       "<table border=\"1\" class=\"dataframe\">\n",
       "  <thead>\n",
       "    <tr style=\"text-align: right;\">\n",
       "      <th></th>\n",
       "      <th>PassengerId</th>\n",
       "      <th>Survived</th>\n",
       "      <th>Pclass</th>\n",
       "      <th>Name</th>\n",
       "      <th>Sex</th>\n",
       "      <th>Age</th>\n",
       "      <th>SibSp</th>\n",
       "      <th>Parch</th>\n",
       "      <th>Ticket</th>\n",
       "      <th>Fare</th>\n",
       "      <th>Cabin</th>\n",
       "      <th>Embarked</th>\n",
       "    </tr>\n",
       "  </thead>\n",
       "  <tbody>\n",
       "    <tr>\n",
       "      <th>0</th>\n",
       "      <td>1</td>\n",
       "      <td>0</td>\n",
       "      <td>3</td>\n",
       "      <td>Braund, Mr. Owen Harris</td>\n",
       "      <td>male</td>\n",
       "      <td>22.0</td>\n",
       "      <td>1</td>\n",
       "      <td>0</td>\n",
       "      <td>A/5 21171</td>\n",
       "      <td>7.2500</td>\n",
       "      <td>NaN</td>\n",
       "      <td>S</td>\n",
       "    </tr>\n",
       "    <tr>\n",
       "      <th>1</th>\n",
       "      <td>2</td>\n",
       "      <td>1</td>\n",
       "      <td>1</td>\n",
       "      <td>Cumings, Mrs. John Bradley (Florence Briggs Th...</td>\n",
       "      <td>female</td>\n",
       "      <td>38.0</td>\n",
       "      <td>1</td>\n",
       "      <td>0</td>\n",
       "      <td>PC 17599</td>\n",
       "      <td>71.2833</td>\n",
       "      <td>C85</td>\n",
       "      <td>C</td>\n",
       "    </tr>\n",
       "    <tr>\n",
       "      <th>2</th>\n",
       "      <td>3</td>\n",
       "      <td>1</td>\n",
       "      <td>3</td>\n",
       "      <td>Heikkinen, Miss. Laina</td>\n",
       "      <td>female</td>\n",
       "      <td>26.0</td>\n",
       "      <td>0</td>\n",
       "      <td>0</td>\n",
       "      <td>STON/O2. 3101282</td>\n",
       "      <td>7.9250</td>\n",
       "      <td>NaN</td>\n",
       "      <td>S</td>\n",
       "    </tr>\n",
       "    <tr>\n",
       "      <th>3</th>\n",
       "      <td>4</td>\n",
       "      <td>1</td>\n",
       "      <td>1</td>\n",
       "      <td>Futrelle, Mrs. Jacques Heath (Lily May Peel)</td>\n",
       "      <td>female</td>\n",
       "      <td>35.0</td>\n",
       "      <td>1</td>\n",
       "      <td>0</td>\n",
       "      <td>113803</td>\n",
       "      <td>53.1000</td>\n",
       "      <td>C123</td>\n",
       "      <td>S</td>\n",
       "    </tr>\n",
       "    <tr>\n",
       "      <th>4</th>\n",
       "      <td>5</td>\n",
       "      <td>0</td>\n",
       "      <td>3</td>\n",
       "      <td>Allen, Mr. William Henry</td>\n",
       "      <td>male</td>\n",
       "      <td>35.0</td>\n",
       "      <td>0</td>\n",
       "      <td>0</td>\n",
       "      <td>373450</td>\n",
       "      <td>8.0500</td>\n",
       "      <td>NaN</td>\n",
       "      <td>S</td>\n",
       "    </tr>\n",
       "  </tbody>\n",
       "</table>\n",
       "</div>"
      ],
      "text/plain": [
       "   PassengerId  Survived  Pclass  \\\n",
       "0            1         0       3   \n",
       "1            2         1       1   \n",
       "2            3         1       3   \n",
       "3            4         1       1   \n",
       "4            5         0       3   \n",
       "\n",
       "                                                Name     Sex   Age  SibSp  \\\n",
       "0                            Braund, Mr. Owen Harris    male  22.0      1   \n",
       "1  Cumings, Mrs. John Bradley (Florence Briggs Th...  female  38.0      1   \n",
       "2                             Heikkinen, Miss. Laina  female  26.0      0   \n",
       "3       Futrelle, Mrs. Jacques Heath (Lily May Peel)  female  35.0      1   \n",
       "4                           Allen, Mr. William Henry    male  35.0      0   \n",
       "\n",
       "   Parch            Ticket     Fare Cabin Embarked  \n",
       "0      0         A/5 21171   7.2500   NaN        S  \n",
       "1      0          PC 17599  71.2833   C85        C  \n",
       "2      0  STON/O2. 3101282   7.9250   NaN        S  \n",
       "3      0            113803  53.1000  C123        S  \n",
       "4      0            373450   8.0500   NaN        S  "
      ]
     },
     "execution_count": 28,
     "metadata": {},
     "output_type": "execute_result"
    }
   ],
   "source": [
    "df.head()"
   ]
  },
  {
   "cell_type": "code",
   "execution_count": 29,
   "id": "9cb056de-33ae-40e8-b57b-6f23acf45294",
   "metadata": {},
   "outputs": [
    {
     "name": "stdout",
     "output_type": "stream",
     "text": [
      "<class 'pandas.core.frame.DataFrame'>\n",
      "RangeIndex: 891 entries, 0 to 890\n",
      "Data columns (total 12 columns):\n",
      " #   Column       Non-Null Count  Dtype  \n",
      "---  ------       --------------  -----  \n",
      " 0   PassengerId  891 non-null    int64  \n",
      " 1   Survived     891 non-null    int64  \n",
      " 2   Pclass       891 non-null    int64  \n",
      " 3   Name         891 non-null    object \n",
      " 4   Sex          891 non-null    object \n",
      " 5   Age          714 non-null    float64\n",
      " 6   SibSp        891 non-null    int64  \n",
      " 7   Parch        891 non-null    int64  \n",
      " 8   Ticket       891 non-null    object \n",
      " 9   Fare         891 non-null    float64\n",
      " 10  Cabin        204 non-null    object \n",
      " 11  Embarked     889 non-null    object \n",
      "dtypes: float64(2), int64(5), object(5)\n",
      "memory usage: 83.7+ KB\n"
     ]
    }
   ],
   "source": [
    "df.info()"
   ]
  },
  {
   "cell_type": "code",
   "execution_count": 30,
   "id": "be2f0cdb-5416-41b9-9a68-ff0dc94b680f",
   "metadata": {},
   "outputs": [
    {
     "data": {
      "text/plain": [
       "PassengerId      0\n",
       "Survived         0\n",
       "Pclass           0\n",
       "Name             0\n",
       "Sex              0\n",
       "Age            177\n",
       "SibSp            0\n",
       "Parch            0\n",
       "Ticket           0\n",
       "Fare             0\n",
       "Cabin          687\n",
       "Embarked         2\n",
       "dtype: int64"
      ]
     },
     "execution_count": 30,
     "metadata": {},
     "output_type": "execute_result"
    }
   ],
   "source": [
    "df.isnull().sum()"
   ]
  },
  {
   "cell_type": "code",
   "execution_count": 10,
   "id": "352b5e30-bcbb-4648-8b1d-d829ec1c007b",
   "metadata": {},
   "outputs": [],
   "source": [
    "import seaborn as sns"
   ]
  },
  {
   "cell_type": "code",
   "execution_count": 11,
   "id": "911ee8c1-44f7-41b9-99b8-1593fb3e6e97",
   "metadata": {},
   "outputs": [],
   "source": [
    "import matplotlib.pyplot as plt"
   ]
  },
  {
   "cell_type": "code",
   "execution_count": 12,
   "id": "18c48df5-cfb9-42ac-aa90-b7110ccf524d",
   "metadata": {},
   "outputs": [
    {
     "data": {
      "image/png": "[encoded data removed]",
      "text/plain": [
       "<Figure size 640x480 with 1 Axes>"
      ]
     },
     "metadata": {},
     "output_type": "display_data"
    }
   ],
   "source": [
    "sns.histplot(df['Age'], kde=True)\n",
    "plt.title('Age Distribution')\n",
    "plt.show()"
   ]
  },
  {
   "cell_type": "markdown",
   "id": "0ccb803a-6080-4e49-8eaa-6e13bd7760a7",
   "metadata": {},
   "source": [
    "#### To find out if your numerical column (like Age ) is normally distributed (symmetric) or skewed (asymmetric), so you know:\n",
    "#### Use mean for normal distribution\n",
    "#### Use median for skewed distribution (outliers affect the mean)"
   ]
  },
  {
   "cell_type": "markdown",
   "id": "8a214642-e3dc-471e-b633-9c17785f56da",
   "metadata": {},
   "source": [
    "#### check skewness numerically"
   ]
  },
  {
   "cell_type": "code",
   "execution_count": 13,
   "id": "6a4483a0-b129-46c1-b952-8a37248e07f9",
   "metadata": {},
   "outputs": [
    {
     "name": "stdout",
     "output_type": "stream",
     "text": [
      "Skewness of Age: 0.38910778230082704\n"
     ]
    }
   ],
   "source": [
    "print(\"Skewness of Age:\", df['Age'].skew())"
   ]
  },
  {
   "cell_type": "markdown",
   "id": "b8fc4a10-06fa-4717-a440-e6bc11dc3e6e",
   "metadata": {},
   "source": [
    "#### seems close to normal ,can use mean ,however median is safer for skewed distribution so we will use median."
   ]
  },
  {
   "cell_type": "code",
   "execution_count": 25,
   "id": "06d4c86d-9acf-4749-93ab-87a288a88808",
   "metadata": {},
   "outputs": [],
   "source": [
    "import numpy as np"
   ]
  },
  {
   "cell_type": "code",
   "execution_count": 31,
   "id": "49c83558-0a37-4f02-83f1-ebf3600827e0",
   "metadata": {},
   "outputs": [
    {
     "data": {
      "text/plain": [
       "0      22.0\n",
       "1      38.0\n",
       "2      26.0\n",
       "3      35.0\n",
       "4      35.0\n",
       "       ... \n",
       "886    27.0\n",
       "887    19.0\n",
       "888     NaN\n",
       "889    26.0\n",
       "890    32.0\n",
       "Name: Age, Length: 891, dtype: float64"
      ]
     },
     "execution_count": 31,
     "metadata": {},
     "output_type": "execute_result"
    }
   ],
   "source": [
    "df['Age']"
   ]
  },
  {
   "cell_type": "code",
   "execution_count": 32,
   "id": "cefdab80-690a-4693-8705-2b93e878047d",
   "metadata": {},
   "outputs": [],
   "source": [
    "df['Age']= df['Age'].replace(np.nan, df['Age'].median)"
   ]
  },
  {
   "cell_type": "code",
   "execution_count": 33,
   "id": "8dac30ad-73f8-4ac1-8034-7c0b5bb4b52b",
   "metadata": {},
   "outputs": [
    {
     "data": {
      "text/plain": [
       "PassengerId      0\n",
       "Survived         0\n",
       "Pclass           0\n",
       "Name             0\n",
       "Sex              0\n",
       "Age              0\n",
       "SibSp            0\n",
       "Parch            0\n",
       "Ticket           0\n",
       "Fare             0\n",
       "Cabin          687\n",
       "Embarked         2\n",
       "dtype: int64"
      ]
     },
     "execution_count": 33,
     "metadata": {},
     "output_type": "execute_result"
    }
   ],
   "source": [
    "df.isnull().sum()"
   ]
  },
  {
   "cell_type": "code",
   "execution_count": 35,
   "id": "2e5e6d11-cfe9-44e0-9f16-52787594acc2",
   "metadata": {},
   "outputs": [
    {
     "data": {
      "text/plain": [
       "PassengerId      int64\n",
       "Survived         int64\n",
       "Pclass           int64\n",
       "Name            object\n",
       "Sex             object\n",
       "Age             object\n",
       "SibSp            int64\n",
       "Parch            int64\n",
       "Ticket          object\n",
       "Fare           float64\n",
       "Cabin           object\n",
       "Embarked        object\n",
       "dtype: object"
      ]
     },
     "execution_count": 35,
     "metadata": {},
     "output_type": "execute_result"
    }
   ],
   "source": [
    "df.dtypes"
   ]
  },
  {
   "cell_type": "code",
   "execution_count": 46,
   "id": "e48e0339-5dc7-479b-bbbf-8b5920c6dc1c",
   "metadata": {},
   "outputs": [],
   "source": [
    "x= df['Age'].median()"
   ]
  },
  {
   "cell_type": "code",
   "execution_count": 47,
   "id": "9fd0e504-225b-4561-b6e8-7cbe6229b670",
   "metadata": {},
   "outputs": [
    {
     "data": {
      "text/plain": [
       "28.0"
      ]
     },
     "execution_count": 47,
     "metadata": {},
     "output_type": "execute_result"
    }
   ],
   "source": [
    "x"
   ]
  },
  {
   "cell_type": "code",
   "execution_count": 48,
   "id": "cbd91bc5-1205-4169-bbe9-7c1e383b36f3",
   "metadata": {},
   "outputs": [],
   "source": [
    "df['Age']= df['Age'].replace(np.nan, x)"
   ]
  },
  {
   "cell_type": "code",
   "execution_count": 49,
   "id": "b2d41574-164a-42f4-badf-e95b0a6f83c1",
   "metadata": {},
   "outputs": [
    {
     "data": {
      "text/plain": [
       "dtype('float64')"
      ]
     },
     "execution_count": 49,
     "metadata": {},
     "output_type": "execute_result"
    }
   ],
   "source": [
    "df['Age'].dtype"
   ]
  },
  {
   "cell_type": "code",
   "execution_count": 50,
   "id": "310460c3-2786-4843-86cb-c4c966ac13e7",
   "metadata": {},
   "outputs": [
    {
     "data": {
      "text/plain": [
       "0"
      ]
     },
     "execution_count": 50,
     "metadata": {},
     "output_type": "execute_result"
    }
   ],
   "source": [
    "df['Age'].isnull().sum()"
   ]
  },
  {
   "cell_type": "markdown",
   "id": "f7c51cfc-df0e-4d4c-91c7-25f6b36ab220",
   "metadata": {},
   "source": [
    "#### As 687 cabin values are missing ,we can either drop the column or fill the na values as 'Unknown'.We can derive a column 'deck' by taking first letter of the cabin values and for unknown values we can use 'U'for analysis."
   ]
  },
  {
   "cell_type": "code",
   "execution_count": 51,
   "id": "51261681-5d35-4faf-9366-a5c46b177308",
   "metadata": {},
   "outputs": [
    {
     "name": "stderr",
     "output_type": "stream",
     "text": [
      "C:\\Users\\vedant\\AppData\\Local\\Temp\\ipykernel_19840\\1872604217.py:1: FutureWarning: A value is trying to be set on a copy of a DataFrame or Series through chained assignment using an inplace method.\n",
      "The behavior will change in pandas 3.0. This inplace method will never work because the intermediate object on which we are setting values always behaves as a copy.\n",
      "\n",
      "For example, when doing 'df[col].method(value, inplace=True)', try using 'df.method({col: value}, inplace=True)' or df[col] = df[col].method(value) instead, to perform the operation inplace on the original object.\n",
      "\n",
      "\n",
      "  df['Cabin'].replace(np.nan, 'Unknown',inplace=True)\n"
     ]
    }
   ],
   "source": [
    "df['Cabin'].replace(np.nan, 'Unknown',inplace=True)"
   ]
  },
  {
   "cell_type": "code",
   "execution_count": 52,
   "id": "a2e84da0-5c4a-4f73-8d34-053055a8ec79",
   "metadata": {},
   "outputs": [
    {
     "data": {
      "text/plain": [
       "0"
      ]
     },
     "execution_count": 52,
     "metadata": {},
     "output_type": "execute_result"
    }
   ],
   "source": [
    "df['Cabin'].isnull().sum()"
   ]
  },
  {
   "cell_type": "code",
   "execution_count": 53,
   "id": "3710fe38-160e-4af8-a114-425f878d6dda",
   "metadata": {},
   "outputs": [],
   "source": [
    "df['Deck']=df['Cabin'].str[0]"
   ]
  },
  {
   "cell_type": "code",
   "execution_count": 54,
   "id": "ca5d2147-1bc0-4f6c-8d4d-cd5c140dccc1",
   "metadata": {},
   "outputs": [
    {
     "data": {
      "text/plain": [
       "0"
      ]
     },
     "execution_count": 54,
     "metadata": {},
     "output_type": "execute_result"
    }
   ],
   "source": [
    "df['Deck'].isnull().sum()"
   ]
  },
  {
   "cell_type": "markdown",
   "id": "6feb6ff9-61fd-49c8-bd72-223aaec4731c",
   "metadata": {},
   "source": [
    "#### Since only 2 values are missing in Embarked column. hence missing values can be filled with mode."
   ]
  },
  {
   "cell_type": "code",
   "execution_count": 58,
   "id": "881b875f-e300-4653-806e-b9dd43f70493",
   "metadata": {},
   "outputs": [
    {
     "data": {
      "text/plain": [
       "0    S\n",
       "Name: Embarked, dtype: object"
      ]
     },
     "execution_count": 58,
     "metadata": {},
     "output_type": "execute_result"
    }
   ],
   "source": [
    "df['Embarked'].mode()"
   ]
  },
  {
   "cell_type": "code",
   "execution_count": 59,
   "id": "fd7d679f-3486-446a-9a2e-d45b99ce4dda",
   "metadata": {},
   "outputs": [],
   "source": [
    "df['Embarked'].fillna(df['Embarked'].mode()[0], inplace=True)"
   ]
  },
  {
   "cell_type": "code",
   "execution_count": 60,
   "id": "31a87b91-4049-43ac-958b-0e38f5ea9913",
   "metadata": {},
   "outputs": [
    {
     "data": {
      "text/plain": [
       "PassengerId    0\n",
       "Survived       0\n",
       "Pclass         0\n",
       "Name           0\n",
       "Sex            0\n",
       "Age            0\n",
       "SibSp          0\n",
       "Parch          0\n",
       "Ticket         0\n",
       "Fare           0\n",
       "Cabin          0\n",
       "Embarked       0\n",
       "Deck           0\n",
       "dtype: int64"
      ]
     },
     "execution_count": 60,
     "metadata": {},
     "output_type": "execute_result"
    }
   ],
   "source": [
    "df.isnull().sum()"
   ]
  },
  {
   "cell_type": "markdown",
   "id": "edb6cdb3-b52c-4ee2-8aa5-fe17a20f7109",
   "metadata": {},
   "source": [
    "#### 'Sex' , 'Embarked' and 'Deck' columns are categorical which can be converted via encoding.\n",
    "##### Used drop_first=True for sex column so that there is only one encoded column and kept the value as false for other columns."
   ]
  },
  {
   "cell_type": "code",
   "execution_count": 61,
   "id": "d32d1e2b-c26c-446c-a518-4b35287bc2b8",
   "metadata": {},
   "outputs": [],
   "source": [
    "df = pd.get_dummies(df, columns=['Sex'], drop_first=True)"
   ]
  },
  {
   "cell_type": "code",
   "execution_count": 62,
   "id": "991751db-cdd4-457a-814f-2e985015476f",
   "metadata": {},
   "outputs": [],
   "source": [
    "df = pd.get_dummies(df, columns=['Embarked', 'Deck'], drop_first=False)"
   ]
  },
  {
   "cell_type": "code",
   "execution_count": 63,
   "id": "8cb3c5fc-21c8-4ba7-87bd-13f1f5fc45b4",
   "metadata": {},
   "outputs": [
    {
     "data": {
      "text/plain": [
       "Index(['PassengerId', 'Survived', 'Pclass', 'Name', 'Age', 'SibSp', 'Parch',\n",
       "       'Ticket', 'Fare', 'Cabin', 'Sex_male', 'Embarked_C', 'Embarked_Q',\n",
       "       'Embarked_S', 'Deck_A', 'Deck_B', 'Deck_C', 'Deck_D', 'Deck_E',\n",
       "       'Deck_F', 'Deck_G', 'Deck_T', 'Deck_U'],\n",
       "      dtype='object')"
      ]
     },
     "execution_count": 63,
     "metadata": {},
     "output_type": "execute_result"
    }
   ],
   "source": [
    "df.columns"
   ]
  },
  {
   "cell_type": "markdown",
   "id": "c2c463e5-c215-4223-a52e-7fd1a9e026cc",
   "metadata": {},
   "source": [
    "### Standardizing the values such that mean is 0 and std dev is 1."
   ]
  },
  {
   "cell_type": "code",
   "execution_count": 64,
   "id": "2b109d09-a2f0-4a45-90dd-ae824ccf653c",
   "metadata": {},
   "outputs": [],
   "source": [
    "from sklearn.preprocessing import StandardScaler\n",
    "\n",
    "scaler = StandardScaler()\n",
    "\n",
    "# List of numerical columns to scale\n",
    "num_cols = ['Age', 'Fare', 'SibSp', 'Parch']\n",
    "df_scaled=df\n",
    "# Fit and transform\n",
    "df_scaled[num_cols] = scaler.fit_transform(df[num_cols])\n"
   ]
  },
  {
   "cell_type": "markdown",
   "id": "12d43db5-fb05-4cc2-b2e5-61c0f53b3baa",
   "metadata": {},
   "source": [
    "#### Box Plots for Outliers"
   ]
  },
  {
   "cell_type": "code",
   "execution_count": 66,
   "id": "81fe8dc0-8228-40db-b5ff-65bbc9f82277",
   "metadata": {},
   "outputs": [
    {
     "data": {
      "image/png": "[encoded data removed]",
      "text/plain": [
       "<Figure size 1200x600 with 1 Axes>"
      ]
     },
     "metadata": {},
     "output_type": "display_data"
    }
   ],
   "source": [
    "plt.figure(figsize=(12, 6))\n",
    "sns.boxplot(data=df_scaled[num_cols])\n",
    "plt.title('Box plots of numeric features')\n",
    "plt.show()"
   ]
  },
  {
   "cell_type": "markdown",
   "id": "17db328f-bfe7-415d-94ac-cfd1949b6b3e",
   "metadata": {},
   "source": [
    "##### There are many outliers in case of Age ,Fare and for SibSp and Parch there are few outliers which can be meaningful ."
   ]
  },
  {
   "cell_type": "code",
   "execution_count": 69,
   "id": "2cb05762-cab2-4570-90db-433e99131ced",
   "metadata": {},
   "outputs": [
    {
     "name": "stdout",
     "output_type": "stream",
     "text": [
      "Outliers for column 'SibSp':\n",
      "        SibSp\n",
      "7    2.247470\n",
      "16   3.154809\n",
      "24   2.247470\n",
      "27   2.247470\n",
      "50   3.154809\n",
      "59   4.062148\n",
      "63   2.247470\n",
      "68   3.154809\n",
      "71   4.062148\n",
      "85   2.247470\n",
      "88   2.247470\n",
      "119  3.154809\n",
      "159  6.784163\n",
      "164  3.154809\n",
      "171  3.154809\n",
      "176  2.247470\n",
      "180  6.784163\n",
      "182  3.154809\n",
      "201  6.784163\n",
      "229  2.247470\n",
      "233  3.154809\n",
      "261  3.154809\n",
      "266  3.154809\n",
      "278  3.154809\n",
      "324  6.784163\n",
      "341  2.247470\n",
      "374  2.247470\n",
      "386  4.062148\n",
      "409  2.247470\n",
      "480  4.062148\n",
      "485  2.247470\n",
      "541  3.154809\n",
      "542  3.154809\n",
      "634  2.247470\n",
      "642  2.247470\n",
      "683  4.062148\n",
      "686  3.154809\n",
      "726  2.247470\n",
      "787  3.154809\n",
      "792  6.784163\n",
      "813  3.154809\n",
      "819  2.247470\n",
      "824  3.154809\n",
      "846  6.784163\n",
      "850  3.154809\n",
      "863  6.784163\n",
      "Total outliers: 46\n",
      "\n",
      "Outliers for column 'Parch':\n",
      "        Parch\n",
      "7    0.767630\n",
      "8    2.008933\n",
      "10   0.767630\n",
      "13   5.732844\n",
      "16   0.767630\n",
      "..        ...\n",
      "871  0.767630\n",
      "879  0.767630\n",
      "880  0.767630\n",
      "885  5.732844\n",
      "888  2.008933\n",
      "\n",
      "[213 rows x 1 columns]\n",
      "Total outliers: 213\n",
      "\n"
     ]
    }
   ],
   "source": [
    "def print_outliers(df, column):\n",
    "    Q1 = df[column].quantile(0.25)\n",
    "    Q3 = df[column].quantile(0.75)\n",
    "    IQR = Q3 - Q1\n",
    "    lower_bound = Q1 - 1.5 * IQR\n",
    "    upper_bound = Q3 + 1.5 * IQR\n",
    "    \n",
    "    outliers = df[(df[column] < lower_bound) | (df[column] > upper_bound)]\n",
    "    \n",
    "    print(f\"Outliers for column '{column}':\")\n",
    "    print(outliers[[column]])\n",
    "    print(f\"Total outliers: {len(outliers)}\\n\")\n",
    "\n",
    "# Example usage:\n",
    "\n",
    "print_outliers(df, 'SibSp')\n",
    "print_outliers(df, 'Parch')\n"
   ]
  },
  {
   "cell_type": "code",
   "execution_count": null,
   "id": "6390649c-806f-44e7-b571-f2de42c77fb6",
   "metadata": {},
   "outputs": [],
   "source": []
  }
 ],
 "metadata": {
  "kernelspec": {
   "display_name": "Python [conda env:base] *",
   "language": "python",
   "name": "conda-base-py"
  },
  "language_info": {
   "codemirror_mode": {
    "name": "ipython",
    "version": 3
   },
   "file_extension": ".py",
   "mimetype": "text/x-python",
   "name": "python",
   "nbconvert_exporter": "python",
   "pygments_lexer": "ipython3",
   "version": "3.12.7"
  }
 },
 "nbformat": 4,
 "nbformat_minor": 5
}
